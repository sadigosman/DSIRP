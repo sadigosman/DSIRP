{
 "cells": [
  {
   "cell_type": "markdown",
   "metadata": {},
   "source": [
    "# الخوارزميات"
   ]
  },
  {
   "cell_type": "markdown",
   "metadata": {},
   "source": [
    "[اضغط هنا لتشغيل هذا الفصل علي كولاب](https://colab.research.google.com/github/AllenDowney/DSIRP/blob/main/notebooks/algorithms.ipynb)"
   ]
  },
  {
   "cell_type": "markdown",
   "metadata": {},
   "source": [
    "## البحث عن الجناس الناقص anagrams\n",
    "\n",
    "In سيضمن هذا الدفتر خوارزمية تقوم بمهمتبن:\n",
    "\n",
    "* فحص زوج من الكلمات اذا كان بينهما جناس، ويحدث هذا اذ استطعت ترتيب الحروف في كلمة لتشكيل الكلمة الاخري.\n",
    "\n",
    "* البحث في لائحة كلمات عن كل الازواج التي بينها جناس ناقص.\n",
    "\n",
    "هناك عبرة من هذه الامثلة، ساشرحها لاحق."
   ]
  },
  {
   "cell_type": "markdown",
   "metadata": {},
   "source": [
    "**تمرين 1:** اكتب دالة تاخذ كلمتين وتعيد `True` اذا بينهما جناس. وجرب الدالة علي الامثلة التالية."
   ]
  },
  {
   "cell_type": "code",
   "execution_count": 1,
   "metadata": {},
   "outputs": [],
   "source": [
    "def is_anagram(word1, word2):\n",
    "    return False"
   ]
  },
  {
   "cell_type": "code",
   "execution_count": 2,
   "metadata": {},
   "outputs": [],
   "source": []
  },
  {
   "cell_type": "code",
   "execution_count": 3,
   "metadata": {},
   "outputs": [],
   "source": []
  },
  {
   "cell_type": "code",
   "execution_count": 4,
   "metadata": {},
   "outputs": [],
   "source": []
  },
  {
   "cell_type": "code",
   "execution_count": 5,
   "metadata": {},
   "outputs": [],
   "source": [
    "is_anagram('tachymetric', 'mccarthyite') # True"
   ]
  },
  {
   "cell_type": "code",
   "execution_count": 6,
   "metadata": {},
   "outputs": [],
   "source": [
    "is_anagram('post', 'top') # False, letter not present"
   ]
  },
  {
   "cell_type": "code",
   "execution_count": 7,
   "metadata": {},
   "outputs": [],
   "source": [
    "is_anagram('pott', 'top') # False, letter present but not enough copies"
   ]
  },
  {
   "cell_type": "code",
   "execution_count": 8,
   "metadata": {},
   "outputs": [],
   "source": [
    "is_anagram('top', 'post') # False, letters left over at the end"
   ]
  },
  {
   "cell_type": "code",
   "execution_count": 9,
   "metadata": {},
   "outputs": [],
   "source": [
    "is_anagram('topss', 'postt') # False"
   ]
  },
  {
   "cell_type": "markdown",
   "metadata": {},
   "source": [
    "**تمرين 2:** استخدم `timeit` لتعرف سرعة الدالة مع هذه الامثلة:"
   ]
  },
  {
   "cell_type": "code",
   "execution_count": 10,
   "metadata": {},
   "outputs": [],
   "source": [
    "%timeit is_anagram('tops', 'spot')"
   ]
  },
  {
   "cell_type": "code",
   "execution_count": 11,
   "metadata": {},
   "outputs": [],
   "source": [
    "%timeit is_anagram('tachymetric', 'mccarthyite')"
   ]
  },
  {
   "cell_type": "markdown",
   "metadata": {},
   "source": [
    "كيف يمكننا مقارنة خوارزميات تشتغل علي حواسيب مختلفة؟"
   ]
  },
  {
   "cell_type": "markdown",
   "metadata": {},
   "source": [
    "## البحث عن ازواج متجانسة"
   ]
  },
  {
   "cell_type": "markdown",
   "metadata": {},
   "source": [
    "**تمرين 3:** اكتب دالة تاخذ لائحة كلمات وتعيد لائحةبكل الازواج المتجانسة."
   ]
  },
  {
   "cell_type": "code",
   "execution_count": 12,
   "metadata": {},
   "outputs": [],
   "source": [
    "short_word_list = ['proudest', 'stop', 'pots', 'tops', 'sprouted']"
   ]
  },
  {
   "cell_type": "code",
   "execution_count": 13,
   "metadata": {},
   "outputs": [],
   "source": [
    "def all_anagram_pairs(word_list):\n",
    "    return []"
   ]
  },
  {
   "cell_type": "code",
   "execution_count": 14,
   "metadata": {},
   "outputs": [],
   "source": []
  },
  {
   "cell_type": "code",
   "execution_count": 15,
   "metadata": {},
   "outputs": [],
   "source": [
    "all_anagram_pairs(short_word_list)"
   ]
  },
  {
   "cell_type": "markdown",
   "metadata": {},
   "source": [
    "تنزل الخلية التالية ملف يحوي لائحة بكلمات انجليزية."
   ]
  },
  {
   "cell_type": "code",
   "execution_count": 16,
   "metadata": {},
   "outputs": [],
   "source": [
    "from os.path import basename, exists\n",
    "\n",
    "def download(url):\n",
    "    filename = basename(url)\n",
    "    if not exists(filename):\n",
    "        from urllib.request import urlretrieve\n",
    "        local, _ = urlretrieve(url, filename)\n",
    "        print('Downloaded ' + local)\n",
    "    \n",
    "download('https://github.com/AllenDowney/DSIRP/raw/main/american-english')"
   ]
  },
  {
   "cell_type": "markdown",
   "metadata": {},
   "source": [
    "تقرأ الدالة التالية ملف وتعيد مجموعة تحوي كلمات (استخدمنا المجموعة set لاننا سنحول حروف الكلمة لاحرف صغيرة lower case، يوجد بعد التكرار.)"
   ]
  },
  {
   "cell_type": "code",
   "execution_count": 17,
   "metadata": {},
   "outputs": [],
   "source": [
    "def read_words(filename):\n",
    "    \"\"\"Read lines from a file and split them into words.\"\"\"\n",
    "    res = set()\n",
    "    for line in open(filename):\n",
    "        for word in line.split():\n",
    "            res.add(word.strip().lower())\n",
    "    return res"
   ]
  },
  {
   "cell_type": "code",
   "execution_count": 18,
   "metadata": {},
   "outputs": [],
   "source": [
    "word_list = read_words('american-english')\n",
    "len(word_list)"
   ]
  },
  {
   "cell_type": "markdown",
   "metadata": {},
   "source": [
    "**تمرين 4:** كرر عبر لائحة الكلمات واطبع كل الكلمات التي تعد جناسا لكلمة `stop`."
   ]
  },
  {
   "cell_type": "code",
   "execution_count": 19,
   "metadata": {},
   "outputs": [],
   "source": []
  },
  {
   "cell_type": "markdown",
   "metadata": {},
   "source": [
    "الان شغل `all_anagram_pairs` باستخدام كل لائحة الكلمات `word_list`:"
   ]
  },
  {
   "cell_type": "code",
   "execution_count": 20,
   "metadata": {},
   "outputs": [],
   "source": [
    "# pairs = all_anagram_pairs(word_list)"
   ]
  },
  {
   "cell_type": "markdown",
   "metadata": {},
   "source": [
    "**تمرين 5:** لنقدر الزمن الذي ستاخذه الدالة اثناء تشغيلها."
   ]
  },
  {
   "cell_type": "code",
   "execution_count": 21,
   "metadata": {},
   "outputs": [],
   "source": []
  },
  {
   "cell_type": "markdown",
   "metadata": {},
   "source": [
    "## خوارزمية افضل\n",
    "\n",
    "**تمرين 6:** اكتب خوارزمية افضل! ملاحظة: استخدم القاموس dictionary. ما مدي سرعت الخوارزمية الان؟"
   ]
  },
  {
   "cell_type": "code",
   "execution_count": 22,
   "metadata": {},
   "outputs": [],
   "source": [
    "def all_anagram_lists(word_list):\n",
    "    \"\"\"Finds all anagrams in a list of words.\n",
    "\n",
    "    word_list: sequence of strings\n",
    "    \"\"\"\n",
    "    return {}"
   ]
  },
  {
   "cell_type": "code",
   "execution_count": 23,
   "metadata": {},
   "outputs": [],
   "source": []
  },
  {
   "cell_type": "code",
   "execution_count": 24,
   "metadata": {},
   "outputs": [],
   "source": [
    "%time anagram_map = all_anagram_lists(word_list)"
   ]
  },
  {
   "cell_type": "code",
   "execution_count": 25,
   "metadata": {},
   "outputs": [],
   "source": [
    "len(anagram_map)"
   ]
  },
  {
   "cell_type": "code",
   "execution_count": 26,
   "metadata": {},
   "outputs": [],
   "source": []
  },
  {
   "cell_type": "markdown",
   "metadata": {},
   "source": [
    "## الخلاصة\n",
    "\n",
    "ما الغرض من الامثلة في هذا الدفتر؟\n",
    "\n",
    "* النسخة المختلفة من `is_anagram` تظهر انه عند صغر المدخلات، من الصعب الحكم اي خوارزمية هي الاسرع. فهي عادة ما تعتمد علي تفاصيل التضمين. وعلي كل حال يميل الفرق لان يكون ضئيلا، لذا قد لايكون مؤثرا عمليا.\n",
    "\n",
    "* توضح الخوارزميات المختلفة التي استخدمناها للبحث عن أزواج الجناس الناقص أنه عندما تكون المدخلات كبيرة ، يمكننا غالبًا تحديد الخوارزمية التي ستكون الأسرع. والفرق بين الخوارزمية السريعة والبطيئة يمكن أن يكون هائلاً!"
   ]
  },
  {
   "cell_type": "markdown",
   "metadata": {},
   "source": [
    "## تمارين\n",
    "\n",
    "قبل العمل علي هذه التمارين، قد تحتاج لقراءة بيثون [كيفية الترتيب](https://docs.python.org/3/howto/sorting.html). تستخدم `lambda` لتعريف دالة مجهولة، التي يمكنك  [القراءة عنها هنا](https://www.w3schools.com/python/python_lambda.asp).\n",
    "\n",
    "**تمرين 7:**\n",
    "انشيء قاموس مثل `anagram_map` يحتوي فقط علي المفاتيح التي ترتبط بقائمة تحوي اكثر من عنصر. يمكنك استخدم حلقة `for` لانشاء قاموس جديد, أو [مكون القاموس dictionary comprehension](https://www.freecodecamp.org/news/dictionary-comprehension-in-python-explained-with-examples/)."
   ]
  },
  {
   "cell_type": "code",
   "execution_count": 27,
   "metadata": {},
   "outputs": [],
   "source": []
  },
  {
   "cell_type": "markdown",
   "metadata": {},
   "source": [
    "**تمرين 8:**\n",
    "ابحث عن أطول كلمة تحتوي على جناس واحد على الأقل. اقتراح: استخدم وسيط `key` اما لـ `sort` أو `sorted` ([انظر هنا](https://stackoverflow.com/questions/8966538/syntax-behind-sortedkey-lambda))."
   ]
  },
  {
   "cell_type": "code",
   "execution_count": 28,
   "metadata": {},
   "outputs": [],
   "source": []
  },
  {
   "cell_type": "markdown",
   "metadata": {},
   "source": [
    "**تمرين 9:**\n",
    "ابحث عن أكبر قائمة بالكلمات التي تمثل الجناس الناقص لبعضها البعض."
   ]
  },
  {
   "cell_type": "code",
   "execution_count": 29,
   "metadata": {},
   "outputs": [],
   "source": []
  },
  {
   "cell_type": "markdown",
   "metadata": {},
   "source": [
    "**تمرين 10:**\n",
    "اكتب دالة تأخذ عددًا صحيحًا من`word_length` وتعثر على أطول قائمة من الكلمات ذات الطول المحدد الذي تمثل الجناس الناقص لبعضها بعضا."
   ]
  },
  {
   "cell_type": "code",
   "execution_count": 30,
   "metadata": {},
   "outputs": [],
   "source": []
  },
  {
   "cell_type": "code",
   "execution_count": 31,
   "metadata": {},
   "outputs": [],
   "source": []
  },
  {
   "cell_type": "markdown",
   "metadata": {},
   "source": [
    "**تمرين 11:**\n",
    "في هذه المرحلة ، لدينا بنية بيانات تحتوي على قوائم من الكلمات التي هي الجناس الناقص ، لكننا في الواقع لم نعد جميع الأزواج.\n",
    "اكتب دالة تأخذ `anagram_map` وتعيد قائمة بكافة أزواج الجناس الناقص.\n",
    "وكم عددهم؟"
   ]
  },
  {
   "cell_type": "code",
   "execution_count": 32,
   "metadata": {},
   "outputs": [],
   "source": []
  },
  {
   "cell_type": "code",
   "execution_count": 33,
   "metadata": {},
   "outputs": [],
   "source": []
  },
  {
   "cell_type": "code",
   "execution_count": 34,
   "metadata": {},
   "outputs": [],
   "source": []
  },
  {
   "cell_type": "code",
   "execution_count": 35,
   "metadata": {},
   "outputs": [],
   "source": []
  },
  {
   "cell_type": "markdown",
   "metadata": {},
   "source": [
    "*هياكل البيانات واسترجاع المعلومات في بايثون*\n",
    "\n",
    "الحقوق محفوظة 2021 Allen Downey\n",
    "\n",
    "الرخصة: [Creative Commons Attribution-NonCommercial-ShareAlike 4.0 International](https://creativecommons.org/licenses/by-nc-sa/4.0/)"
   ]
  }
 ],
 "metadata": {
  "kernelspec": {
   "display_name": "Python 3 (ipykernel)",
   "language": "python",
   "name": "python3"
  },
  "language_info": {
   "codemirror_mode": {
    "name": "ipython",
    "version": 3
   },
   "file_extension": ".py",
   "mimetype": "text/x-python",
   "name": "python",
   "nbconvert_exporter": "python",
   "pygments_lexer": "ipython3",
   "version": "3.10.1"
  }
 },
 "nbformat": 4,
 "nbformat_minor": 4
}
